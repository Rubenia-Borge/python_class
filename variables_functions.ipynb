{
  "nbformat": 4,
  "nbformat_minor": 0,
  "metadata": {
    "colab": {
      "provenance": []
    },
    "kernelspec": {
      "name": "python3",
      "display_name": "Python 3"
    },
    "language_info": {
      "name": "python"
    }
  },
  "cells": [
    {
      "cell_type": "code",
      "execution_count": null,
      "metadata": {
        "id": "tbxQn60-xgLb"
      },
      "outputs": [],
      "source": []
    },
    {
      "cell_type": "code",
      "source": [
        "print(\"Hello CSCE 1010 UNT!\")\n",
        "print(\"Python is an interesting and simple programming language\")"
      ],
      "metadata": {
        "colab": {
          "base_uri": "https://localhost:8080/"
        },
        "id": "BWyq_SySxmIh",
        "outputId": "bd1f05ab-939b-4221-8fe3-c662959602a2"
      },
      "execution_count": null,
      "outputs": [
        {
          "output_type": "stream",
          "name": "stdout",
          "text": [
            "Hello CSCE 1010 UNT!\n",
            "Python is an interesting and simple programming language\n"
          ]
        }
      ]
    },
    {
      "cell_type": "code",
      "source": [
        "print(1 + 2)\n",
        "#addition = 1 + 2\n",
        "number1 = 1\n",
        "number2 = 2\n",
        "addition = number1 + number2\n",
        "print(\"Operation Addition, Symbol +, (1 %*+- 2 = 3) ->\", (1 + (-2)))\n",
        "print(\"Operation Addition, Symbol +, (1 + 2 = 3) ->\", addition)\n",
        "print(\"Operation Addition, Symbol +, (1 + 2 = 3) ->\", (number1 + number2))\n"
      ],
      "metadata": {
        "colab": {
          "base_uri": "https://localhost:8080/"
        },
        "id": "mZUuHL5PxmRB",
        "outputId": "e2377868-f7dd-4061-9ca7-ea7109930bcb"
      },
      "execution_count": null,
      "outputs": [
        {
          "output_type": "stream",
          "name": "stdout",
          "text": [
            "3\n",
            "Operation Addition, Symbol +, (1 %*+- 2 = 3) -> -1\n",
            "Operation Addition, Symbol +, (1 + 2 = 3) -> 3\n",
            "Operation Addition, Symbol +, (1 + 2 = 3) -> 3\n"
          ]
        }
      ]
    },
    {
      "cell_type": "code",
      "source": [
        "print(((1 + 3) * (9 - 2) / 2) ** 2)"
      ],
      "metadata": {
        "colab": {
          "base_uri": "https://localhost:8080/"
        },
        "id": "Z6-_s2wlxi0b",
        "outputId": "baed7c87-8326-49ec-8204-144e340c5af3"
      },
      "execution_count": null,
      "outputs": [
        {
          "output_type": "stream",
          "name": "stdout",
          "text": [
            "196.0\n"
          ]
        }
      ]
    },
    {
      "cell_type": "code",
      "source": [
        "number1 = 1\n",
        "number2 = 2\n",
        "print(\"Operation addition, Symbol +, (1 + 2 = 3)\", (number1 + number2))\n",
        "print(\"Operation subtraction, Symbol +, (1 - 2 = -1)\", (number1 - number2))\n",
        "print(\"Operation multiplication, Symbol +, (1 * 2 = 2)\", (number1 * number2))\n",
        "print(\"Operation division, Symbol +, (1 / 2 = 0.5)\", (number1 / number2))"
      ],
      "metadata": {
        "colab": {
          "base_uri": "https://localhost:8080/"
        },
        "id": "dDV6-zRg1W3s",
        "outputId": "dcda1dde-ceb5-40a2-da66-cc37b4343565"
      },
      "execution_count": null,
      "outputs": [
        {
          "output_type": "stream",
          "name": "stdout",
          "text": [
            "Operation addition, Symbol +, (1 + 2 = 3) 3\n",
            "Operation subtraction, Symbol +, (1 - 2 = -1) -1\n",
            "Operation multiplication, Symbol +, (1 * 2 = 2) 2\n",
            "Operation division, Symbol +, (1 / 2 = 0.5) 0.5\n"
          ]
        }
      ]
    },
    {
      "cell_type": "code",
      "source": [
        "print (1 + 2)\n",
        "number1 = 1\n",
        "number2 = 2\n",
        "addition = number1 + number2\n",
        "print(\"Operation Addition, Symbol +, (1 + 2 = 3) -> \", (1 + 2))\n",
        "print(\"Operation Addition, Symbol +, (1 + 2 = 3) -> \", addition)\n",
        "print(\"Operation Addition, Symbol +, (1 + 2 = 3) -> \", (number1 + number2))"
      ],
      "metadata": {
        "colab": {
          "base_uri": "https://localhost:8080/"
        },
        "id": "vOnfUaNX1ZCU",
        "outputId": "7677ceb7-e40c-4c18-f6db-78e407db41c9"
      },
      "execution_count": null,
      "outputs": [
        {
          "output_type": "stream",
          "name": "stdout",
          "text": [
            "3\n",
            "Operation Addition, Symbol +, (1 + 2 = 3) ->  3\n",
            "Operation Addition, Symbol +, (1 + 2 = 3) ->  3\n",
            "Operation Addition, Symbol +, (1 + 2 = 3) ->  3\n"
          ]
        }
      ]
    },
    {
      "cell_type": "code",
      "source": [
        "print(1+2)\n",
        "#addition = 1 + 2\n",
        "number1 = 1\n",
        "number2 = 2\n",
        "addition = number1 + number2\n",
        "print('Operation Addition, Symbol +, (1 + 2 = 3) ->', (1+2))\n",
        "print('Operation Addition, Symbol +, (1 + 2 = 3) ->', addition)\n",
        "print('Operation Addition, Symbol +, (1 + 2 = 3) ->', (number1+number2))"
      ],
      "metadata": {
        "colab": {
          "base_uri": "https://localhost:8080/"
        },
        "id": "RipwVBR61dZU",
        "outputId": "7cf60d97-aeae-4b73-acdf-d15443e09f90"
      },
      "execution_count": null,
      "outputs": [
        {
          "output_type": "stream",
          "name": "stdout",
          "text": [
            "3\n",
            "Operation Addition, Symbol +, (1 + 2 = 3) -> 3\n",
            "Operation Addition, Symbol +, (1 + 2 = 3) -> 3\n",
            "Operation Addition, Symbol +, (1 + 2 = 3) -> 3\n"
          ]
        }
      ]
    },
    {
      "cell_type": "code",
      "source": [
        "print(((1 + 3) * (9 - 2) / 2) ** 2)\n",
        "print((1 + 3 * (9 - 2) / 2) ** 2)\n",
        "print((1 + 3 * 9 - 2 / 2) ** 2)\n",
        "print(1 + 3 * 9 - 2 / 2 ** 2)"
      ],
      "metadata": {
        "colab": {
          "base_uri": "https://localhost:8080/"
        },
        "id": "VNGJTuuS1hpT",
        "outputId": "a84e1f91-82ff-4e4c-f6df-fda3c90f4f17"
      },
      "execution_count": null,
      "outputs": [
        {
          "output_type": "stream",
          "name": "stdout",
          "text": [
            "196.0\n",
            "132.25\n",
            "729.0\n",
            "27.5\n"
          ]
        }
      ]
    },
    {
      "cell_type": "code",
      "source": [
        "my_integer_var = -1\n",
        "my_float_var = -3.0\n",
        "my_string_var = 'Ana Karina'\n",
        "my_boolean_var = 'True'\n",
        "\n",
        "print(my_integer_var,my_float_var,my_string_var,my_boolean_var)\n"
      ],
      "metadata": {
        "colab": {
          "base_uri": "https://localhost:8080/"
        },
        "id": "JRJ0AFZ12Z-8",
        "outputId": "e888abb5-0f14-49f0-c0e8-866d3dbc0a5f"
      },
      "execution_count": null,
      "outputs": [
        {
          "output_type": "stream",
          "name": "stdout",
          "text": [
            "-1 -3.0 Ana Karina True\n"
          ]
        }
      ]
    },
    {
      "cell_type": "code",
      "source": [
        "# Define the function\n",
        "def add_three(input_var):\n",
        "    output_var = input_var + 3\n",
        "    return output_var"
      ],
      "metadata": {
        "id": "GWCmN_cI3n4F"
      },
      "execution_count": null,
      "outputs": []
    },
    {
      "cell_type": "code",
      "source": [
        "new_number = add_three(10)\n",
        "print(new_number)"
      ],
      "metadata": {
        "colab": {
          "base_uri": "https://localhost:8080/"
        },
        "id": "i9qw-cFO38-1",
        "outputId": "f907bdd1-c02f-4e2b-e0c9-5a487133e387"
      },
      "execution_count": null,
      "outputs": [
        {
          "output_type": "stream",
          "name": "stdout",
          "text": [
            "13\n"
          ]
        }
      ]
    },
    {
      "cell_type": "code",
      "source": [
        "# Function that adds 10 to any number\n",
        "def add_ten(x):\n",
        "  y = x + 10\n",
        "  return y\n"
      ],
      "metadata": {
        "id": "OdrpKsqy4Zmi"
      },
      "execution_count": null,
      "outputs": []
    },
    {
      "cell_type": "code",
      "source": [
        "add_ten(5)"
      ],
      "metadata": {
        "colab": {
          "base_uri": "https://localhost:8080/"
        },
        "id": "rdED4Q255TV3",
        "outputId": "05d2a3e7-8e2b-4430-aefc-dd2f92ad2417"
      },
      "execution_count": null,
      "outputs": [
        {
          "output_type": "execute_result",
          "data": {
            "text/plain": [
              "15"
            ]
          },
          "metadata": {},
          "execution_count": 35
        }
      ]
    },
    {
      "cell_type": "code",
      "source": [
        "def add_three_numbers(a, b, c):\n",
        "  total1 = a + b\n",
        "  total2 = b + c\n",
        "  total3 = a + b + c\n",
        "  print('You can print from a function, too!', a, b, c, total1, total2, total3)\n",
        "  return total1, total2, total3\n",
        "  "
      ],
      "metadata": {
        "id": "SN7TtKpK6EIJ"
      },
      "execution_count": null,
      "outputs": []
    },
    {
      "cell_type": "code",
      "source": [
        "add_three_numbers(1,2,3)"
      ],
      "metadata": {
        "colab": {
          "base_uri": "https://localhost:8080/"
        },
        "id": "lq00VjTh6fgw",
        "outputId": "905445ea-955f-4715-da11-2ebe09ae161c"
      },
      "execution_count": null,
      "outputs": [
        {
          "output_type": "stream",
          "name": "stdout",
          "text": [
            "You can print from a function, too! 1 2 3 3 5 6\n"
          ]
        },
        {
          "output_type": "execute_result",
          "data": {
            "text/plain": [
              "(3, 5, 6)"
            ]
          },
          "metadata": {},
          "execution_count": 39
        }
      ]
    },
    {
      "cell_type": "code",
      "source": [
        "def add_three(x):\n",
        "    y = x + 3\n",
        "    print('This is x', x)\n",
        "    print(\"This is y\", y)\n",
        "    return y\n",
        "new_number = add_three(10)\n",
        "print(new_number)"
      ],
      "metadata": {
        "colab": {
          "base_uri": "https://localhost:8080/"
        },
        "id": "CMc5-eD_8DBY",
        "outputId": "b568a51d-e2ad-4ec7-b907-7f5c6981e874"
      },
      "execution_count": null,
      "outputs": [
        {
          "output_type": "stream",
          "name": "stdout",
          "text": [
            "This is x 10\n",
            "This is y 13\n",
            "13\n"
          ]
        }
      ]
    },
    {
      "cell_type": "code",
      "source": [
        "print(x)"
      ],
      "metadata": {
        "colab": {
          "base_uri": "https://localhost:8080/",
          "height": 165
        },
        "id": "Ex42jhdr-id5",
        "outputId": "f1a66653-4345-458d-ab25-98a37c4346d0"
      },
      "execution_count": null,
      "outputs": [
        {
          "output_type": "error",
          "ename": "NameError",
          "evalue": "ignored",
          "traceback": [
            "\u001b[0;31m---------------------------------------------------------------------------\u001b[0m",
            "\u001b[0;31mNameError\u001b[0m                                 Traceback (most recent call last)",
            "\u001b[0;32m<ipython-input-49-fc17d851ef81>\u001b[0m in \u001b[0;36m<module>\u001b[0;34m\u001b[0m\n\u001b[0;32m----> 1\u001b[0;31m \u001b[0mprint\u001b[0m\u001b[0;34m(\u001b[0m\u001b[0mx\u001b[0m\u001b[0;34m)\u001b[0m\u001b[0;34m\u001b[0m\u001b[0;34m\u001b[0m\u001b[0m\n\u001b[0m",
            "\u001b[0;31mNameError\u001b[0m: name 'x' is not defined"
          ]
        }
      ]
    },
    {
      "cell_type": "code",
      "source": [
        "print(y)"
      ],
      "metadata": {
        "colab": {
          "base_uri": "https://localhost:8080/",
          "height": 165
        },
        "id": "MsRnlgcW-02n",
        "outputId": "20f76063-f344-47ee-e001-b64d7bd30748"
      },
      "execution_count": null,
      "outputs": [
        {
          "output_type": "error",
          "ename": "NameError",
          "evalue": "ignored",
          "traceback": [
            "\u001b[0;31m---------------------------------------------------------------------------\u001b[0m",
            "\u001b[0;31mNameError\u001b[0m                                 Traceback (most recent call last)",
            "\u001b[0;32m<ipython-input-50-d9183e048de3>\u001b[0m in \u001b[0;36m<module>\u001b[0;34m\u001b[0m\n\u001b[0;32m----> 1\u001b[0;31m \u001b[0mprint\u001b[0m\u001b[0;34m(\u001b[0m\u001b[0my\u001b[0m\u001b[0;34m)\u001b[0m\u001b[0;34m\u001b[0m\u001b[0;34m\u001b[0m\u001b[0m\n\u001b[0m",
            "\u001b[0;31mNameError\u001b[0m: name 'y' is not defined"
          ]
        }
      ]
    },
    {
      "cell_type": "code",
      "source": [
        "x = 100\n",
        "y = 300\n",
        "print(x,y)\n",
        "\n",
        "def add_three(x):\n",
        "    print(x)\n",
        "    x = 400\n",
        "    y = x + 3\n",
        "    print('This is x', x)\n",
        "    print(\"This is y\", y)\n",
        "    return y\n",
        "new_number = add_three(10)\n",
        "print(new_number)"
      ],
      "metadata": {
        "colab": {
          "base_uri": "https://localhost:8080/"
        },
        "id": "vbqZaAJt_Cc4",
        "outputId": "e483f775-a238-4379-86ee-821220d69c59"
      },
      "execution_count": null,
      "outputs": [
        {
          "output_type": "stream",
          "name": "stdout",
          "text": [
            "100 300\n",
            "10\n",
            "This is x 400\n",
            "This is y 403\n",
            "403\n"
          ]
        }
      ]
    }
  ]
}