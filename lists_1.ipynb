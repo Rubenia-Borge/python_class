{
  "nbformat": 4,
  "nbformat_minor": 0,
  "metadata": {
    "colab": {
      "provenance": []
    },
    "kernelspec": {
      "name": "python3",
      "display_name": "Python 3"
    },
    "language_info": {
      "name": "python"
    }
  },
  "cells": [
    {
      "cell_type": "code",
      "execution_count": null,
      "metadata": {
        "id": "QQIIoVytVerh"
      },
      "outputs": [],
      "source": []
    },
    {
      "cell_type": "code",
      "source": [],
      "metadata": {
        "id": "8U5kDvSXVhLv"
      },
      "execution_count": null,
      "outputs": []
    },
    {
      "cell_type": "code",
      "source": [
        "# Examples of lists\n",
        "\n",
        "list_1 = [\"bread\", \"jam\", \"coffee\"]\n",
        "list_2 = ['salmon', 'salad', 'mashed potatoes']\n",
        "list_3 = [\"soup\", 'tea', 'cookie']\n",
        "\n",
        "\n",
        "print(list_1)\n",
        "print(list_2)\n",
        "print(list_3)\n",
        "\n",
        "print('Another way to print')\n",
        "print(list_1, '\\n', list_2, '\\n', list_3)\n",
        "\n"
      ],
      "metadata": {
        "colab": {
          "base_uri": "https://localhost:8080/"
        },
        "id": "CFxGp7Q7Vkpv",
        "outputId": "e18148aa-2018-4bc1-ab34-70686517a5e8"
      },
      "execution_count": 4,
      "outputs": [
        {
          "output_type": "stream",
          "name": "stdout",
          "text": [
            "['bread', 'jam', 'coffee']\n",
            "['salmon', 'salad', 'mashed potatoes']\n",
            "['soup', 'tea', 'cookie']\n",
            "Another way to print\n",
            "['bread', 'jam', 'coffee'] \n",
            " ['salmon', 'salad', 'mashed potatoes'] \n",
            " ['soup', 'tea', 'cookie']\n"
          ]
        }
      ]
    },
    {
      "cell_type": "code",
      "source": [
        "# To print a list we use the function print \n",
        "thislist_1 = [\"cake\", \"muffin\", \"cup cake\"]\n",
        "print(thislist_1)"
      ],
      "metadata": {
        "colab": {
          "base_uri": "https://localhost:8080/"
        },
        "id": "wE8Mvz5LZkAi",
        "outputId": "289bf651-a9a4-4faa-828c-950486c1805a"
      },
      "execution_count": 5,
      "outputs": [
        {
          "output_type": "stream",
          "name": "stdout",
          "text": [
            "['cake', 'muffin', 'cup cake']\n"
          ]
        }
      ]
    },
    {
      "cell_type": "code",
      "source": [
        "# The length of a list is the number of elements\n",
        "\n",
        "thislist = [\"chair\", \"table\", \"bed\", \"sofa\"]\n",
        "print(len(thislist))"
      ],
      "metadata": {
        "colab": {
          "base_uri": "https://localhost:8080/"
        },
        "id": "xWNrARtJVvyn",
        "outputId": "5f3d0043-b84a-4f13-9041-faaa50f6dfd6"
      },
      "execution_count": 9,
      "outputs": [
        {
          "output_type": "stream",
          "name": "stdout",
          "text": [
            "4\n"
          ]
        }
      ]
    },
    {
      "cell_type": "code",
      "source": [
        "# Print the length of a list\n",
        "print(len(list_1))\n",
        "print(len(list_2))\n",
        "print(len(list_3))"
      ],
      "metadata": {
        "colab": {
          "base_uri": "https://localhost:8080/"
        },
        "id": "ILZi9xq0arf_",
        "outputId": "d652fa15-3f92-4c2e-aa80-0ef0b2ebc044"
      },
      "execution_count": 10,
      "outputs": [
        {
          "output_type": "stream",
          "name": "stdout",
          "text": [
            "3\n",
            "3\n",
            "3\n"
          ]
        }
      ]
    },
    {
      "cell_type": "code",
      "source": [
        "# There can be lists of many types\n",
        "\n",
        "list1 = [\"apple\", \"banana\", \"cherry\"]\n",
        "list2 = [1, 5, 7, 9, 3]\n",
        "list3 = [True, False, False]"
      ],
      "metadata": {
        "id": "n-RGmy-fcSZQ"
      },
      "execution_count": 12,
      "outputs": []
    },
    {
      "cell_type": "code",
      "source": [
        "# Lists can contain many data types\n",
        "\n",
        "list4 = ['banana', True, 3.5, 'c', 'a', 8]\n",
        "print(list4)\n",
        "\n",
        "list5 = [False, 0, 'x', '0.0', 100, [1,2,3],'X']\n",
        "print(list5)\n",
        "\n",
        "list6 = ['x', ['a','b','c', 'd', 'e'], [1, 2, 3, 4, 5], True, 100]\n",
        "print(list6)"
      ],
      "metadata": {
        "colab": {
          "base_uri": "https://localhost:8080/"
        },
        "id": "gQKCGQi5dMA2",
        "outputId": "8145b9c9-6e65-48af-9c20-fbda065e90c2"
      },
      "execution_count": 19,
      "outputs": [
        {
          "output_type": "stream",
          "name": "stdout",
          "text": [
            "['banana', True, 3.5, 'c', 'a', 8]\n",
            "[False, 0, 'x', '0.0', 100, [1, 2, 3], 'X']\n",
            "['x', ['a', 'b', 'c', 'd', 'e'], [1, 2, 3, 4, 5], True, 100]\n"
          ]
        }
      ]
    },
    {
      "cell_type": "code",
      "source": [
        "# How to access the elements of a list\n",
        "print(len(list4))\n",
        "print(len(list5))\n",
        "print(len(list6))\n",
        "\n",
        "# Fist element of the list is index 0\n",
        "print(list4[0])\n",
        "print(list5[0])\n",
        "print(list6[0])\n",
        "\n",
        "# Last element of the list is lenght of the list minus 1\n",
        "print(list4[5])\n",
        "print(list5[6])\n",
        "print(list6[4])"
      ],
      "metadata": {
        "colab": {
          "base_uri": "https://localhost:8080/"
        },
        "id": "BIugvoQ7enx9",
        "outputId": "40d81398-bc89-4153-e416-9555fa7d0b27"
      },
      "execution_count": 26,
      "outputs": [
        {
          "output_type": "stream",
          "name": "stdout",
          "text": [
            "6\n",
            "7\n",
            "5\n",
            "banana\n",
            "False\n",
            "x\n",
            "8\n",
            "X\n",
            "100\n"
          ]
        }
      ]
    }
  ]
}