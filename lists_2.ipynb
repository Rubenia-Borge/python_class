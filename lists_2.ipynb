{
  "nbformat": 4,
  "nbformat_minor": 0,
  "metadata": {
    "colab": {
      "provenance": []
    },
    "kernelspec": {
      "name": "python3",
      "display_name": "Python 3"
    },
    "language_info": {
      "name": "python"
    }
  },
  "cells": [
    {
      "cell_type": "code",
      "execution_count": null,
      "metadata": {
        "id": "QQIIoVytVerh"
      },
      "outputs": [],
      "source": []
    },
    {
      "cell_type": "code",
      "source": [],
      "metadata": {
        "id": "8U5kDvSXVhLv"
      },
      "execution_count": null,
      "outputs": []
    },
    {
      "cell_type": "code",
      "source": [
        "# Examples of lists\n",
        "\n",
        "list_1 = [\"bread\", \"jam\", \"coffee\", \"tea\", \"strawberries\", \"mango\"]\n",
        "list_2 = ['salmon', 'salad', 'mashed potatoes']\n",
        "list_3 = [\"soup\", 'tea', 'cookie']"
      ],
      "metadata": {
        "id": "HUirHfOIpC82"
      },
      "execution_count": null,
      "outputs": []
    },
    {
      "cell_type": "code",
      "source": [
        "print(list_1)\n",
        "print(list_2)\n",
        "print(list_3)"
      ],
      "metadata": {
        "colab": {
          "base_uri": "https://localhost:8080/"
        },
        "id": "vPikGYnPpGe8",
        "outputId": "b69cee61-4567-4175-9e27-6d3327034499"
      },
      "execution_count": null,
      "outputs": [
        {
          "output_type": "stream",
          "name": "stdout",
          "text": [
            "['bread', 'jam', 'coffee', 'tea', 'strawberries', 'mango']\n",
            "['salmon', 'salad', 'mashed potatoes']\n",
            "['soup', 'tea', 'cookie']\n"
          ]
        }
      ]
    },
    {
      "cell_type": "code",
      "source": [
        "\n",
        "print('Another way to print')\n",
        "print('\\n', list_1, '\\n', list_2, '\\n', list_3)"
      ],
      "metadata": {
        "colab": {
          "base_uri": "https://localhost:8080/"
        },
        "id": "PfBGCzjapcp9",
        "outputId": "6a982779-d753-4a5a-dd6c-01933db33e9a"
      },
      "execution_count": null,
      "outputs": [
        {
          "output_type": "stream",
          "name": "stdout",
          "text": [
            "Another way to print\n",
            "\n",
            " ['bread', 'jam', 'coffee', 'tea', 'strawberries', 'mango'] \n",
            " ['salmon', 'salad', 'mashed potatoes'] \n",
            " ['soup', 'tea', 'cookie']\n"
          ]
        }
      ]
    },
    {
      "cell_type": "code",
      "source": [
        "# To print a list we use the function print \n",
        "thislist_1 = [\"cake\", \"muffin\", \"cup cake\"]\n",
        "print(thislist_1)"
      ],
      "metadata": {
        "colab": {
          "base_uri": "https://localhost:8080/"
        },
        "collapsed": true,
        "id": "wE8Mvz5LZkAi",
        "outputId": "9f80c4db-5967-44bb-bedc-d38a1cea962a"
      },
      "execution_count": null,
      "outputs": [
        {
          "output_type": "stream",
          "name": "stdout",
          "text": [
            "['cake', 'muffin', 'cup cake']\n"
          ]
        }
      ]
    },
    {
      "cell_type": "code",
      "source": [
        "# The length of a list is the number of elements\n",
        "\n",
        "thislist = [\"chair\", \"table\", \"bed\", \"sofa\", \"picture\", \"vase\"]\n",
        "print(len(thislist))"
      ],
      "metadata": {
        "colab": {
          "base_uri": "https://localhost:8080/"
        },
        "id": "xWNrARtJVvyn",
        "outputId": "caf79d1a-0783-4bfe-bc44-6c1892991dd0"
      },
      "execution_count": null,
      "outputs": [
        {
          "output_type": "stream",
          "name": "stdout",
          "text": [
            "6\n"
          ]
        }
      ]
    },
    {
      "cell_type": "code",
      "source": [
        "# Print the length of a list\n",
        "print(len(list_1))\n",
        "print(len(list_2))\n",
        "print(len(list_3))"
      ],
      "metadata": {
        "colab": {
          "base_uri": "https://localhost:8080/"
        },
        "id": "ILZi9xq0arf_",
        "outputId": "d652fa15-3f92-4c2e-aa80-0ef0b2ebc044"
      },
      "execution_count": null,
      "outputs": [
        {
          "output_type": "stream",
          "name": "stdout",
          "text": [
            "3\n",
            "3\n",
            "3\n"
          ]
        }
      ]
    },
    {
      "cell_type": "code",
      "source": [
        "# There can be lists of many types\n",
        "\n",
        "list1 = [\"apple\", \"banana\", \"cherry\"]\n",
        "list2 = [1, 5, 7, 9, 3]\n",
        "list3 = [True, False, False]\n"
      ],
      "metadata": {
        "id": "n-RGmy-fcSZQ"
      },
      "execution_count": null,
      "outputs": []
    },
    {
      "cell_type": "code",
      "source": [
        "# Lists can contain many data types\n",
        "\n",
        "list4 = ['banana', True, 3.5, 'c', 'a', 8]\n",
        "print(list4)\n",
        "print(len(list4))\n",
        "list5 = [False, 0, 'x', '0.0', 100, [1,2,3],'X']\n",
        "print(list5)\n",
        "print(len(list5))\n",
        "list6 = ['x', ['a','b','c', 'd', 'e'], [1, 2, 3, 4, 5], True, 100]\n",
        "print(list6)\n",
        "print(len(list6))"
      ],
      "metadata": {
        "colab": {
          "base_uri": "https://localhost:8080/"
        },
        "id": "gQKCGQi5dMA2",
        "outputId": "60514083-9899-4ca5-826b-374e85c69b99"
      },
      "execution_count": null,
      "outputs": [
        {
          "output_type": "stream",
          "name": "stdout",
          "text": [
            "['banana', True, 3.5, 'c', 'a', 8]\n",
            "6\n",
            "[False, 0, 'x', '0.0', 100, [1, 2, 3], 'X']\n",
            "7\n",
            "['x', ['a', 'b', 'c', 'd', 'e'], [1, 2, 3, 4, 5], True, 100]\n",
            "5\n"
          ]
        }
      ]
    },
    {
      "cell_type": "code",
      "source": [
        "listception = [True, [1,2,3, [3.5, 3.6], 4,5,6], False]\n",
        "\n",
        "print(listception)"
      ],
      "metadata": {
        "colab": {
          "base_uri": "https://localhost:8080/"
        },
        "id": "JwXQaLsAs08D",
        "outputId": "26f4fc16-1748-451e-e076-26f7e9ece808"
      },
      "execution_count": null,
      "outputs": [
        {
          "output_type": "stream",
          "name": "stdout",
          "text": [
            "[True, [1, 2, 3, [3.5, 3.6], 4, 5, 6], False]\n"
          ]
        }
      ]
    },
    {
      "cell_type": "code",
      "source": [
        "# How to access the elements of a list\n",
        "print(len(list4))\n",
        "print(len(list5))\n",
        "print(len(list6))\n",
        "\n",
        "# Fist element of the list is index 0\n",
        "print(list4[0])\n",
        "print(list5[0])\n",
        "print(list6[0])\n",
        "\n",
        "# Last element of the list is lenght of the list minus 1\n",
        "print(list4[5])\n",
        "print(list5[6])\n",
        "print(list6[4])"
      ],
      "metadata": {
        "colab": {
          "base_uri": "https://localhost:8080/"
        },
        "id": "BIugvoQ7enx9",
        "outputId": "effd0f4b-45d0-4870-c3d7-b2cc38b99c73"
      },
      "execution_count": null,
      "outputs": [
        {
          "output_type": "stream",
          "name": "stdout",
          "text": [
            "6\n",
            "7\n",
            "5\n",
            "banana\n",
            "False\n",
            "x\n",
            "8\n",
            "X\n",
            "100\n"
          ]
        }
      ]
    }
  ]
}