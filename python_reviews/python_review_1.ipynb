{
  "nbformat": 4,
  "nbformat_minor": 0,
  "metadata": {
    "colab": {
      "provenance": []
    },
    "kernelspec": {
      "name": "python3",
      "display_name": "Python 3"
    },
    "language_info": {
      "name": "python"
    }
  },
  "cells": [
    {
      "cell_type": "code",
      "execution_count": null,
      "metadata": {
        "id": "l_m68H02vmfa"
      },
      "outputs": [],
      "source": []
    },
    {
      "cell_type": "code",
      "source": [
        "# A first Python Program"
      ],
      "metadata": {
        "id": "Wpb7i4Iuw550"
      },
      "execution_count": null,
      "outputs": []
    },
    {
      "cell_type": "code",
      "source": [
        "print(\"Python Programming Language\")\n",
        "print(\"Python Review\")"
      ],
      "metadata": {
        "colab": {
          "base_uri": "https://localhost:8080/"
        },
        "id": "oYPoSbwMvqAv",
        "outputId": "3bb44785-8810-4960-a1e1-675a6fe91438"
      },
      "execution_count": 1,
      "outputs": [
        {
          "output_type": "stream",
          "name": "stdout",
          "text": [
            "Python Programming Language\n",
            "Python Review\n"
          ]
        }
      ]
    },
    {
      "cell_type": "code",
      "source": [
        "# Indentation"
      ],
      "metadata": {
        "id": "aDGNtXp2w-60"
      },
      "execution_count": null,
      "outputs": []
    },
    {
      "cell_type": "code",
      "source": [
        "if 100 > 99:\n",
        "  print(\"100 is greater than 99.\")"
      ],
      "metadata": {
        "colab": {
          "base_uri": "https://localhost:8080/"
        },
        "id": "sU65Qia0ysPI",
        "outputId": "cab7e039-1f02-49a9-8f5e-422d31dbf6ae"
      },
      "execution_count": 2,
      "outputs": [
        {
          "output_type": "stream",
          "name": "stdout",
          "text": [
            "100 is greater than 99.\n"
          ]
        }
      ]
    },
    {
      "cell_type": "code",
      "source": [
        "if 100 > 99:\n",
        "print(\"100 is greater than 99.\")"
      ],
      "metadata": {
        "colab": {
          "base_uri": "https://localhost:8080/",
          "height": 130
        },
        "id": "qFOWltTN0H13",
        "outputId": "662684e4-a360-4d29-c203-7bd59b040703"
      },
      "execution_count": 3,
      "outputs": [
        {
          "output_type": "error",
          "ename": "IndentationError",
          "evalue": "ignored",
          "traceback": [
            "\u001b[0;36m  File \u001b[0;32m\"<ipython-input-3-a2c089ca0bda>\"\u001b[0;36m, line \u001b[0;32m2\u001b[0m\n\u001b[0;31m    print(\"100 is greater than 99.\")\u001b[0m\n\u001b[0m        ^\u001b[0m\n\u001b[0;31mIndentationError\u001b[0m\u001b[0;31m:\u001b[0m expected an indented block\n"
          ]
        }
      ]
    },
    {
      "cell_type": "code",
      "source": [
        "if 100 > 99:\n",
        "  print(\"100 is greater than 99.\")"
      ],
      "metadata": {
        "colab": {
          "base_uri": "https://localhost:8080/"
        },
        "id": "a8jwlYFY0Q4h",
        "outputId": "fd2f0f1d-f9a5-4e98-e10f-78dfaadb65d2"
      },
      "execution_count": 6,
      "outputs": [
        {
          "output_type": "stream",
          "name": "stdout",
          "text": [
            "100 is greater than 99.\n"
          ]
        }
      ]
    },
    {
      "cell_type": "code",
      "source": [
        "if 100 > 99:\n",
        "      print(\"100 is greater than 99.\")"
      ],
      "metadata": {
        "colab": {
          "base_uri": "https://localhost:8080/"
        },
        "id": "ZNtMhx9l0UJ2",
        "outputId": "1e3de0fa-3a74-4da8-ae81-9eb3466c17ea"
      },
      "execution_count": 7,
      "outputs": [
        {
          "output_type": "stream",
          "name": "stdout",
          "text": [
            "100 is greater than 99.\n"
          ]
        }
      ]
    },
    {
      "cell_type": "code",
      "source": [
        "if 100 > 99:\n",
        "  print(\"You need to use the same indentation inside the same block of code.\")\n",
        "      print(\"Error for bad use of indentation.\")"
      ],
      "metadata": {
        "colab": {
          "base_uri": "https://localhost:8080/",
          "height": 130
        },
        "id": "LStUXkVC0cdD",
        "outputId": "b2aa58d6-5e2c-4a81-d6e1-09ba3e32b098"
      },
      "execution_count": 8,
      "outputs": [
        {
          "output_type": "error",
          "ename": "IndentationError",
          "evalue": "ignored",
          "traceback": [
            "\u001b[0;36m  File \u001b[0;32m\"<ipython-input-8-29d4144be198>\"\u001b[0;36m, line \u001b[0;32m3\u001b[0m\n\u001b[0;31m    print(\"Error for bad use of indentation.\")\u001b[0m\n\u001b[0m    ^\u001b[0m\n\u001b[0;31mIndentationError\u001b[0m\u001b[0;31m:\u001b[0m unexpected indent\n"
          ]
        }
      ]
    },
    {
      "cell_type": "code",
      "source": [],
      "metadata": {
        "id": "ucHYcbAP0yBj"
      },
      "execution_count": null,
      "outputs": []
    }
  ]
}